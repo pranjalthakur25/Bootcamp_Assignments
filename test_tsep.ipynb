{
  "nbformat": 4,
  "nbformat_minor": 0,
  "metadata": {
    "colab": {
      "provenance": [],
      "authorship_tag": "ABX9TyN2IJ9ymcAsQHgaISWf8lrK"
    },
    "kernelspec": {
      "name": "python3",
      "display_name": "Python 3"
    },
    "language_info": {
      "name": "python"
    }
  },
  "cells": [
    {
      "cell_type": "markdown",
      "source": [
        "1.Write a NumPy program to find the number of elements in an array. It also finds the length of one array element in bytes and the total bytes consumed by the elements.\n",
        "2. Apply functions\n",
        "1. Concatenation\n",
        "2.Any\n",
        "3.Shape\n",
        "4. Reshape\n",
        "5.Append\n",
        "6.Extend\n"
      ],
      "metadata": {
        "id": "ic-bcwIV8hPN"
      }
    },
    {
      "cell_type": "code",
      "execution_count": null,
      "metadata": {
        "id": "T78S86qP8cTj"
      },
      "outputs": [],
      "source": [
        "import numpy as np"
      ]
    },
    {
      "cell_type": "code",
      "source": [
        "arr=np.array([1,2,3,4,5])"
      ],
      "metadata": {
        "id": "vMlcD37V8z9n"
      },
      "execution_count": null,
      "outputs": []
    },
    {
      "cell_type": "code",
      "source": [
        "num_elements=arr.size"
      ],
      "metadata": {
        "id": "AubFTnvv83ka"
      },
      "execution_count": null,
      "outputs": []
    },
    {
      "cell_type": "code",
      "source": [
        "elements_bytes=arr.itemsize"
      ],
      "metadata": {
        "id": "BAf9Xk7g89nA"
      },
      "execution_count": null,
      "outputs": []
    },
    {
      "cell_type": "code",
      "source": [
        "total_bytes=arr.nbytes"
      ],
      "metadata": {
        "id": "L96RC3KM9lqO"
      },
      "execution_count": null,
      "outputs": []
    },
    {
      "cell_type": "code",
      "source": [
        "print(\"Number of elements:\", num_elements)\n"
      ],
      "metadata": {
        "colab": {
          "base_uri": "https://localhost:8080/"
        },
        "id": "8kSfh1t29BLh",
        "outputId": "e7c62366-1fd8-4ed4-a190-ceb614fa0590"
      },
      "execution_count": null,
      "outputs": [
        {
          "output_type": "stream",
          "name": "stdout",
          "text": [
            "Number of elements: 5\n"
          ]
        }
      ]
    },
    {
      "cell_type": "code",
      "source": [
        "print(\"Length of one array element in bytes:\", elements_bytes)\n"
      ],
      "metadata": {
        "colab": {
          "base_uri": "https://localhost:8080/"
        },
        "id": "64dx7ImR9Eoa",
        "outputId": "aa90ba15-612e-4212-faa6-8eb97be59294"
      },
      "execution_count": null,
      "outputs": [
        {
          "output_type": "stream",
          "name": "stdout",
          "text": [
            "Length of one array element in bytes: 8\n"
          ]
        }
      ]
    },
    {
      "cell_type": "code",
      "source": [
        "print(\"Total bytes consumed by the elements:\", total_bytes)"
      ],
      "metadata": {
        "colab": {
          "base_uri": "https://localhost:8080/"
        },
        "id": "pu-9_u7H9t-1",
        "outputId": "f2211907-2ff5-45f1-8caa-b312d5e4294d"
      },
      "execution_count": null,
      "outputs": [
        {
          "output_type": "stream",
          "name": "stdout",
          "text": [
            "Total bytes consumed by the elements: 40\n"
          ]
        }
      ]
    },
    {
      "cell_type": "code",
      "source": [
        "arr1=np.array([3,4,5])\n",
        "arr2=np.array([9,7,1])"
      ],
      "metadata": {
        "id": "igl43VJf94Kj"
      },
      "execution_count": null,
      "outputs": []
    },
    {
      "cell_type": "code",
      "source": [
        "concatenate_arr=np.concatenate((arr1,arr2))"
      ],
      "metadata": {
        "id": "rU_GP0PH-GQ1"
      },
      "execution_count": null,
      "outputs": []
    },
    {
      "cell_type": "code",
      "source": [
        "concatenate_arr"
      ],
      "metadata": {
        "colab": {
          "base_uri": "https://localhost:8080/"
        },
        "id": "KEdMGdje-N2U",
        "outputId": "c3f306ed-20e6-45da-e225-78bc7cbd1970"
      },
      "execution_count": null,
      "outputs": [
        {
          "output_type": "execute_result",
          "data": {
            "text/plain": [
              "array([3, 4, 5, 9, 7, 1])"
            ]
          },
          "metadata": {},
          "execution_count": 16
        }
      ]
    },
    {
      "cell_type": "code",
      "source": [
        "arr3 = np.array([False, False, True])\n",
        "print(\"Any function result:\", np.any(arr3))\n",
        "print(\"Shape of the array:\", arr.shape)"
      ],
      "metadata": {
        "colab": {
          "base_uri": "https://localhost:8080/"
        },
        "id": "0-FbxhKX-dBG",
        "outputId": "f07aedc5-6e69-4df5-a1ae-fcab4716b6eb"
      },
      "execution_count": null,
      "outputs": [
        {
          "output_type": "stream",
          "name": "stdout",
          "text": [
            "Any function result: True\n",
            "Shape of the array: (5,)\n"
          ]
        }
      ]
    },
    {
      "cell_type": "code",
      "source": [
        "arr4 = np.arange(6)\n",
        "reshaped = arr4.reshape(2, 3)\n",
        "print(\"Reshaped array:\")\n",
        "print(reshaped)"
      ],
      "metadata": {
        "colab": {
          "base_uri": "https://localhost:8080/"
        },
        "id": "JXHt_ZCm-hrZ",
        "outputId": "49d86bab-c62e-4913-c408-605c5f3c7d88"
      },
      "execution_count": null,
      "outputs": [
        {
          "output_type": "stream",
          "name": "stdout",
          "text": [
            "Reshaped array:\n",
            "[[0 1 2]\n",
            " [3 4 5]]\n"
          ]
        }
      ]
    },
    {
      "cell_type": "code",
      "source": [
        "arr5 = np.array([1, 2, 3])\n",
        "appended = np.append(arr5, 4)\n",
        "print(\"Appended array:\", appended)"
      ],
      "metadata": {
        "colab": {
          "base_uri": "https://localhost:8080/"
        },
        "id": "qLF60W7l-jsD",
        "outputId": "7f8abc99-2dd4-449d-fc54-4a9a98d892e6"
      },
      "execution_count": null,
      "outputs": [
        {
          "output_type": "stream",
          "name": "stdout",
          "text": [
            "Appended array: [1 2 3 4]\n"
          ]
        }
      ]
    },
    {
      "cell_type": "code",
      "source": [
        "arr6 = np.array([1, 2, 3])\n",
        "arr7 = np.array([4, 5, 6])\n",
        "extended = np.concatenate((arr6, arr7))\n",
        "print(\"Extended array:\", extended)"
      ],
      "metadata": {
        "colab": {
          "base_uri": "https://localhost:8080/"
        },
        "id": "pSBzcF43-nf1",
        "outputId": "96a1d9f7-3616-4da5-b072-d4a8c20d9a3c"
      },
      "execution_count": null,
      "outputs": [
        {
          "output_type": "stream",
          "name": "stdout",
          "text": [
            "Extended array: [1 2 3 4 5 6]\n"
          ]
        }
      ]
    },
    {
      "cell_type": "code",
      "source": [],
      "metadata": {
        "id": "XawGKJ0V-pon"
      },
      "execution_count": null,
      "outputs": []
    }
  ]
}